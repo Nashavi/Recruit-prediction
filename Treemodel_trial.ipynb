{
 "cells": [
  {
   "cell_type": "code",
   "execution_count": 1,
   "metadata": {},
   "outputs": [
    {
     "name": "stdout",
     "output_type": "stream",
     "text": [
      "data frames read:['air_reserve', 'air_store_info', 'air_visit_data', 'date_info', 'hpg_reserve', 'hpg_store_info', 'sample_submission', 'store_id_relation']\n",
      "local variables with the same names are created.\n"
     ]
    }
   ],
   "source": [
    "import numpy as np, pandas as pd\n",
    "import os,glob, re\n",
    "%matplotlib inline\n",
    "\n",
    "dfs = {re.search('([a-zA-Z_]*)\\.csv', fn).group(1):pd.read_csv(fn) for fn in glob.glob(os.getcwd()+'//Raw//*.csv')}\n",
    "print('data frames read:{}'.format(list(dfs.keys())))\n",
    "\n",
    "print('local variables with the same names are created.')\n",
    "for k, v in dfs.items(): locals()[k] = v"
   ]
  },
  {
   "cell_type": "code",
   "execution_count": 2,
   "metadata": {},
   "outputs": [
    {
     "name": "stdout",
     "output_type": "stream",
     "text": [
      "Raw shape of each dataset\n",
      "air_reserve :  (92378, 4)\n",
      "air_store_info :  (829, 5)\n",
      "air_visit_data :  (252108, 3)\n",
      "date_info :  (517, 3)\n",
      "hpg_reserve :  (2000320, 4)\n",
      "hpg_store_info :  (4690, 5)\n",
      "sample_submission :  (32019, 2)\n",
      "store_id_relation :  (150, 2)\n"
     ]
    }
   ],
   "source": [
    "print(\"Raw shape of each dataset\")\n",
    "for k, v in dfs.items(): print(\"%s : \"%k,v.shape)"
   ]
  },
  {
   "cell_type": "code",
   "execution_count": 3,
   "metadata": {},
   "outputs": [
    {
     "name": "stdout",
     "output_type": "stream",
     "text": [
      "Unique store Ids in each dataset\n",
      "air_reserve  - Unqiue air_stores:  314\n",
      "air_store_info  - Unqiue air_stores:  829\n",
      "air_visit_data  - Unqiue air_stores:  829\n",
      "hpg_reserve  - Unqiue hpg_stores:  13325\n",
      "hpg_store_info  - Unqiue hpg_stores:  4690\n",
      "store_id_relation  - Unqiue air_stores:  150\n",
      "store_id_relation  - Unqiue hpg_stores:  150\n"
     ]
    }
   ],
   "source": [
    "print(\"Unique store Ids in each dataset\")\n",
    "for k, v in dfs.items(): \n",
    "    try:       \n",
    "        print(k,\" - Unqiue air_stores: \",v.air_store_id.nunique())\n",
    "    except:\n",
    "        pass\n",
    "    try:\n",
    "        print(k,\" - Unqiue hpg_stores: \",v.hpg_store_id.nunique())\n",
    "    except:\n",
    "        pass"
   ]
  },
  {
   "cell_type": "code",
   "execution_count": 4,
   "metadata": {},
   "outputs": [
    {
     "name": "stdout",
     "output_type": "stream",
     "text": [
      "Convert hpg_reserve from hpg_store_id reference to air_store_id reference\n",
      "(28183, 4)\n"
     ]
    },
    {
     "data": {
      "text/html": [
       "<div>\n",
       "<style>\n",
       "    .dataframe thead tr:only-child th {\n",
       "        text-align: right;\n",
       "    }\n",
       "\n",
       "    .dataframe thead th {\n",
       "        text-align: left;\n",
       "    }\n",
       "\n",
       "    .dataframe tbody tr th {\n",
       "        vertical-align: top;\n",
       "    }\n",
       "</style>\n",
       "<table border=\"1\" class=\"dataframe\">\n",
       "  <thead>\n",
       "    <tr style=\"text-align: right;\">\n",
       "      <th></th>\n",
       "      <th>air_store_id</th>\n",
       "      <th>visit_datetime</th>\n",
       "      <th>reserve_datetime</th>\n",
       "      <th>reserve_visitors</th>\n",
       "    </tr>\n",
       "  </thead>\n",
       "  <tbody>\n",
       "    <tr>\n",
       "      <th>0</th>\n",
       "      <td>air_63b13c56b7201bd9</td>\n",
       "      <td>2016-01-04 12:00:00</td>\n",
       "      <td>2016-01-03 14:00:00</td>\n",
       "      <td>7</td>\n",
       "    </tr>\n",
       "    <tr>\n",
       "      <th>1</th>\n",
       "      <td>air_63b13c56b7201bd9</td>\n",
       "      <td>2016-01-04 14:00:00</td>\n",
       "      <td>2016-01-02 13:00:00</td>\n",
       "      <td>4</td>\n",
       "    </tr>\n",
       "    <tr>\n",
       "      <th>2</th>\n",
       "      <td>air_63b13c56b7201bd9</td>\n",
       "      <td>2016-01-05 12:00:00</td>\n",
       "      <td>2016-01-01 08:00:00</td>\n",
       "      <td>3</td>\n",
       "    </tr>\n",
       "    <tr>\n",
       "      <th>3</th>\n",
       "      <td>air_63b13c56b7201bd9</td>\n",
       "      <td>2016-01-09 12:00:00</td>\n",
       "      <td>2016-01-07 20:00:00</td>\n",
       "      <td>6</td>\n",
       "    </tr>\n",
       "    <tr>\n",
       "      <th>4</th>\n",
       "      <td>air_63b13c56b7201bd9</td>\n",
       "      <td>2016-01-11 12:00:00</td>\n",
       "      <td>2016-01-10 15:00:00</td>\n",
       "      <td>3</td>\n",
       "    </tr>\n",
       "  </tbody>\n",
       "</table>\n",
       "</div>"
      ],
      "text/plain": [
       "           air_store_id       visit_datetime     reserve_datetime  \\\n",
       "0  air_63b13c56b7201bd9  2016-01-04 12:00:00  2016-01-03 14:00:00   \n",
       "1  air_63b13c56b7201bd9  2016-01-04 14:00:00  2016-01-02 13:00:00   \n",
       "2  air_63b13c56b7201bd9  2016-01-05 12:00:00  2016-01-01 08:00:00   \n",
       "3  air_63b13c56b7201bd9  2016-01-09 12:00:00  2016-01-07 20:00:00   \n",
       "4  air_63b13c56b7201bd9  2016-01-11 12:00:00  2016-01-10 15:00:00   \n",
       "\n",
       "   reserve_visitors  \n",
       "0                 7  \n",
       "1                 4  \n",
       "2                 3  \n",
       "3                 6  \n",
       "4                 3  "
      ]
     },
     "execution_count": 4,
     "metadata": {},
     "output_type": "execute_result"
    }
   ],
   "source": [
    "print(\"Convert hpg_reserve from hpg_store_id reference to air_store_id reference\")\n",
    "hpg_reserve = store_id_relation.merge(hpg_reserve,on = 'hpg_store_id', how='inner').drop('hpg_store_id',axis = 1)\n",
    "print(hpg_reserve.shape)\n",
    "hpg_reserve.head()"
   ]
  },
  {
   "cell_type": "code",
   "execution_count": 5,
   "metadata": {},
   "outputs": [
    {
     "name": "stdout",
     "output_type": "stream",
     "text": [
      "Convert hpg_store_info from hpg_store_id reference to air_store_id reference\n",
      "(63, 5)\n"
     ]
    },
    {
     "data": {
      "text/html": [
       "<div>\n",
       "<style>\n",
       "    .dataframe thead tr:only-child th {\n",
       "        text-align: right;\n",
       "    }\n",
       "\n",
       "    .dataframe thead th {\n",
       "        text-align: left;\n",
       "    }\n",
       "\n",
       "    .dataframe tbody tr th {\n",
       "        vertical-align: top;\n",
       "    }\n",
       "</style>\n",
       "<table border=\"1\" class=\"dataframe\">\n",
       "  <thead>\n",
       "    <tr style=\"text-align: right;\">\n",
       "      <th></th>\n",
       "      <th>air_store_id</th>\n",
       "      <th>hpg_genre_name</th>\n",
       "      <th>hpg_area_name</th>\n",
       "      <th>latitude</th>\n",
       "      <th>longitude</th>\n",
       "    </tr>\n",
       "  </thead>\n",
       "  <tbody>\n",
       "    <tr>\n",
       "      <th>0</th>\n",
       "      <td>air_a24bf50c3e90d583</td>\n",
       "      <td>Italian</td>\n",
       "      <td>Shizuoka-ken Hamamatsu-shi Sukenobuchō</td>\n",
       "      <td>34.721644</td>\n",
       "      <td>137.738944</td>\n",
       "    </tr>\n",
       "    <tr>\n",
       "      <th>1</th>\n",
       "      <td>air_a38f25e3399d1b25</td>\n",
       "      <td>Japanese style</td>\n",
       "      <td>Tōkyō-to Chiyoda-ku None</td>\n",
       "      <td>35.695780</td>\n",
       "      <td>139.768453</td>\n",
       "    </tr>\n",
       "    <tr>\n",
       "      <th>2</th>\n",
       "      <td>air_3c938075889fc059</td>\n",
       "      <td>Japanese style</td>\n",
       "      <td>Fukuoka-ken Fukuoka-shi Ōmiya</td>\n",
       "      <td>33.579734</td>\n",
       "      <td>130.401762</td>\n",
       "    </tr>\n",
       "    <tr>\n",
       "      <th>3</th>\n",
       "      <td>air_ef789667e2e6fe96</td>\n",
       "      <td>International cuisine</td>\n",
       "      <td>Tōkyō-to Machida-shi Nakamachi</td>\n",
       "      <td>35.549670</td>\n",
       "      <td>139.448494</td>\n",
       "    </tr>\n",
       "    <tr>\n",
       "      <th>4</th>\n",
       "      <td>air_8f3b563416efc6ad</td>\n",
       "      <td>Creative Japanese food</td>\n",
       "      <td>Tōkyō-to Shinjuku-ku None</td>\n",
       "      <td>35.691384</td>\n",
       "      <td>139.701256</td>\n",
       "    </tr>\n",
       "  </tbody>\n",
       "</table>\n",
       "</div>"
      ],
      "text/plain": [
       "           air_store_id          hpg_genre_name  \\\n",
       "0  air_a24bf50c3e90d583                 Italian   \n",
       "1  air_a38f25e3399d1b25          Japanese style   \n",
       "2  air_3c938075889fc059          Japanese style   \n",
       "3  air_ef789667e2e6fe96   International cuisine   \n",
       "4  air_8f3b563416efc6ad  Creative Japanese food   \n",
       "\n",
       "                            hpg_area_name   latitude   longitude  \n",
       "0  Shizuoka-ken Hamamatsu-shi Sukenobuchō  34.721644  137.738944  \n",
       "1                Tōkyō-to Chiyoda-ku None  35.695780  139.768453  \n",
       "2           Fukuoka-ken Fukuoka-shi Ōmiya  33.579734  130.401762  \n",
       "3          Tōkyō-to Machida-shi Nakamachi  35.549670  139.448494  \n",
       "4               Tōkyō-to Shinjuku-ku None  35.691384  139.701256  "
      ]
     },
     "execution_count": 5,
     "metadata": {},
     "output_type": "execute_result"
    }
   ],
   "source": [
    "print(\"Convert hpg_store_info from hpg_store_id reference to air_store_id reference\")\n",
    "hpg_store_info = store_id_relation.merge(hpg_store_info,on = 'hpg_store_id', how='inner').drop('hpg_store_id',axis = 1)\n",
    "print(hpg_store_info.shape)\n",
    "hpg_store_info.head()"
   ]
  },
  {
   "cell_type": "code",
   "execution_count": 6,
   "metadata": {},
   "outputs": [
    {
     "data": {
      "text/html": [
       "<div>\n",
       "<style>\n",
       "    .dataframe thead tr:only-child th {\n",
       "        text-align: right;\n",
       "    }\n",
       "\n",
       "    .dataframe thead th {\n",
       "        text-align: left;\n",
       "    }\n",
       "\n",
       "    .dataframe tbody tr th {\n",
       "        vertical-align: top;\n",
       "    }\n",
       "</style>\n",
       "<table border=\"1\" class=\"dataframe\">\n",
       "  <thead>\n",
       "    <tr style=\"text-align: right;\">\n",
       "      <th></th>\n",
       "      <th>calendar_date</th>\n",
       "      <th>day_of_week</th>\n",
       "      <th>holiday_flg</th>\n",
       "    </tr>\n",
       "  </thead>\n",
       "  <tbody>\n",
       "    <tr>\n",
       "      <th>0</th>\n",
       "      <td>2016-01-01</td>\n",
       "      <td>Friday</td>\n",
       "      <td>1</td>\n",
       "    </tr>\n",
       "    <tr>\n",
       "      <th>1</th>\n",
       "      <td>2016-01-02</td>\n",
       "      <td>Saturday</td>\n",
       "      <td>1</td>\n",
       "    </tr>\n",
       "    <tr>\n",
       "      <th>2</th>\n",
       "      <td>2016-01-03</td>\n",
       "      <td>Sunday</td>\n",
       "      <td>1</td>\n",
       "    </tr>\n",
       "    <tr>\n",
       "      <th>3</th>\n",
       "      <td>2016-01-04</td>\n",
       "      <td>Monday</td>\n",
       "      <td>0</td>\n",
       "    </tr>\n",
       "    <tr>\n",
       "      <th>4</th>\n",
       "      <td>2016-01-05</td>\n",
       "      <td>Tuesday</td>\n",
       "      <td>0</td>\n",
       "    </tr>\n",
       "  </tbody>\n",
       "</table>\n",
       "</div>"
      ],
      "text/plain": [
       "  calendar_date day_of_week  holiday_flg\n",
       "0    2016-01-01      Friday            1\n",
       "1    2016-01-02    Saturday            1\n",
       "2    2016-01-03      Sunday            1\n",
       "3    2016-01-04      Monday            0\n",
       "4    2016-01-05     Tuesday            0"
      ]
     },
     "execution_count": 6,
     "metadata": {},
     "output_type": "execute_result"
    }
   ],
   "source": [
    "date_info.head()"
   ]
  },
  {
   "cell_type": "code",
   "execution_count": 7,
   "metadata": {},
   "outputs": [
    {
     "name": "stdout",
     "output_type": "stream",
     "text": [
      "Add features to date_info\n",
      "\n",
      "Remove Saturday and Sunday as flagged holidays\n",
      "Add day before the holiday feature\n"
     ]
    },
    {
     "data": {
      "text/html": [
       "<div>\n",
       "<style>\n",
       "    .dataframe thead tr:only-child th {\n",
       "        text-align: right;\n",
       "    }\n",
       "\n",
       "    .dataframe thead th {\n",
       "        text-align: left;\n",
       "    }\n",
       "\n",
       "    .dataframe tbody tr th {\n",
       "        vertical-align: top;\n",
       "    }\n",
       "</style>\n",
       "<table border=\"1\" class=\"dataframe\">\n",
       "  <thead>\n",
       "    <tr style=\"text-align: right;\">\n",
       "      <th></th>\n",
       "      <th>calendar_date</th>\n",
       "      <th>day_of_week</th>\n",
       "      <th>holiday_flg</th>\n",
       "      <th>dayb4holiday</th>\n",
       "    </tr>\n",
       "  </thead>\n",
       "  <tbody>\n",
       "    <tr>\n",
       "      <th>0</th>\n",
       "      <td>2016-01-01</td>\n",
       "      <td>Friday</td>\n",
       "      <td>1</td>\n",
       "      <td>0</td>\n",
       "    </tr>\n",
       "    <tr>\n",
       "      <th>1</th>\n",
       "      <td>2016-01-02</td>\n",
       "      <td>Saturday</td>\n",
       "      <td>0</td>\n",
       "      <td>0</td>\n",
       "    </tr>\n",
       "    <tr>\n",
       "      <th>2</th>\n",
       "      <td>2016-01-03</td>\n",
       "      <td>Sunday</td>\n",
       "      <td>0</td>\n",
       "      <td>0</td>\n",
       "    </tr>\n",
       "    <tr>\n",
       "      <th>3</th>\n",
       "      <td>2016-01-04</td>\n",
       "      <td>Monday</td>\n",
       "      <td>0</td>\n",
       "      <td>0</td>\n",
       "    </tr>\n",
       "    <tr>\n",
       "      <th>4</th>\n",
       "      <td>2016-01-05</td>\n",
       "      <td>Tuesday</td>\n",
       "      <td>0</td>\n",
       "      <td>0</td>\n",
       "    </tr>\n",
       "  </tbody>\n",
       "</table>\n",
       "</div>"
      ],
      "text/plain": [
       "  calendar_date day_of_week  holiday_flg  dayb4holiday\n",
       "0    2016-01-01      Friday            1             0\n",
       "1    2016-01-02    Saturday            0             0\n",
       "2    2016-01-03      Sunday            0             0\n",
       "3    2016-01-04      Monday            0             0\n",
       "4    2016-01-05     Tuesday            0             0"
      ]
     },
     "execution_count": 7,
     "metadata": {},
     "output_type": "execute_result"
    }
   ],
   "source": [
    "print(\"Add features to date_info\")\n",
    "print()\n",
    "print(\"1. Remove Saturday and Sunday as flagged holidays\")\n",
    "weekdayholidays = date_info.apply(lambda x: x.day_of_week in ['Saturday','Sunday'] and x.holiday_flg == 1,axis=1)\n",
    "date_info.loc[weekdayholidays,'holiday_flg'] = 0\n",
    "print(\"2. Add day before the holiday feature\")\n",
    "date_info['lagged'] = date_info['holiday_flg'].shift(-1)\n",
    "day_b4_holiday = (date_info['holiday_flg'] == 0) & (date_info['lagged'] == 1.0) #& (date_info['day_of_week'] not ['Sunday','Saturday'])\n",
    "date_info['dayb4holiday'] = 0\n",
    "date_info.loc[day_b4_holiday,'dayb4holiday'] = 1\n",
    "date_info.drop('lagged',axis = 1, inplace = True)\n",
    "date_info.head()"
   ]
  },
  {
   "cell_type": "code",
   "execution_count": null,
   "metadata": {
    "collapsed": true
   },
   "outputs": [],
   "source": []
  }
 ],
 "metadata": {
  "kernelspec": {
   "display_name": "Python 3",
   "language": "python",
   "name": "python3"
  },
  "language_info": {
   "codemirror_mode": {
    "name": "ipython",
    "version": 3
   },
   "file_extension": ".py",
   "mimetype": "text/x-python",
   "name": "python",
   "nbconvert_exporter": "python",
   "pygments_lexer": "ipython3",
   "version": "3.6.2"
  }
 },
 "nbformat": 4,
 "nbformat_minor": 2
}
